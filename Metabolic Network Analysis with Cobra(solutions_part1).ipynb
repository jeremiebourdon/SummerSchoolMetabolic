{
 "cells": [
  {
   "cell_type": "markdown",
   "metadata": {},
   "source": [
    "# Building and Studying a tiny model"
   ]
  },
  {
   "cell_type": "markdown",
   "metadata": {},
   "source": [
    "*Exercice 1*\n",
    "\n",
    "Manipulate the following tiny toy example by following the indications in the python notebook file. More specifically, perform an FBA optimization, a FVA, manipulate the model,….\n",
    "~~~~\n",
    "R1 : 2A + B —> C\n",
    "R2 : B + C —> D + 2E\n",
    "R3 : 4A —> D\n",
    "R4 : —> A\n",
    "R5 : —> B\n",
    "R6 : D —>\n",
    "R7 : E —>\n",
    "~~~~\n",
    "Preliminary question : Try to understand how cobra allows a modelization of this model\n",
    "\n",
    "Question 1 : Write the stoichiometric matrix\n",
    "\n",
    "Question 2 : Write the linear system that has to be solved\n",
    "\n",
    "Question 3 : Suppose that we observe V4 = 1 and V7 = 1 and solve the system\n",
    "\n",
    "Question 4 : Suppose that we observe V4 = 1 and V7 = 2 and solve the system\n",
    "\n",
    "Question 5 : All the reactions are irreversible. Plot the solution set. Suppose now that V4>1 and V7>1.\n",
    "\n",
    "Question 6 : One has V4 < 6 and V7<4. What is the solution that maximizes V4+V7 ?"
   ]
  },
  {
   "cell_type": "code",
   "execution_count": 1,
   "metadata": {},
   "outputs": [
    {
     "name": "stdout",
     "output_type": "stream",
     "text": [
      "Creating R1\n",
      "Creating R2\n",
      "Creating R3\n",
      "Creating R4\n",
      "Creating R5\n",
      "Creating R6\n",
      "Creating R7\n"
     ]
    }
   ],
   "source": [
    "# Importing the cobra library\n",
    "import cobra\n",
    "from cobra import Model, Reaction, Metabolite\n",
    "\n",
    "# step 1 : Constructing a metabolic model\n",
    "\n",
    "model = Model('example_model')\n",
    "\n",
    "# set of reactions\n",
    "reactions = dict()\n",
    "for i in range(1,8):\n",
    "    reactions[\"R\"+str(i)] = Reaction(\"R\"+str(i))\n",
    "    reactions[\"R\"+str(i)].name = \"R\"+str(i)\n",
    "    reactions[\"R\"+str(i)].subsystem = 'Body'\n",
    "    reactions[\"R\"+str(i)].lower_bound = 0.  # This is the default\n",
    "    reactions[\"R\"+str(i)].upper_bound = 1000.  # This is the default\n",
    "    #reactions[\"R\"+str(i)].objective_coefficient = 0. # this is the default\n",
    "    print (\"Creating R\"+str(i))\n",
    "# set of metabolites\n",
    "A = Metabolite('A', name='A', compartment='c')\n",
    "B = Metabolite('B', name='B', compartment='c')\n",
    "C = Metabolite('C', name='C', compartment='c')\n",
    "D = Metabolite('D', name='D', compartment='c')\n",
    "E = Metabolite('E', name='E', compartment='c')\n",
    "F = Metabolite('F', name='F', compartment='c')\n",
    "\n",
    "reactions[\"R1\"].add_metabolites({A:-2, B:-1, C: 1})\n",
    "reactions[\"R2\"].add_metabolites({B:-1, C:-1, D: 1, E: 2})\n",
    "reactions[\"R3\"].add_metabolites({A:-4, D: 1})\n",
    "reactions[\"R4\"].add_metabolites({A:1})\n",
    "reactions[\"R5\"].add_metabolites({B:1})\n",
    "reactions[\"R6\"].add_metabolites({D: -1})\n",
    "reactions[\"R7\"].add_metabolites({E: -1})\n",
    "\n",
    "\n",
    "reactions[\"R4\"].lower_bound = 1\n",
    "reactions[\"R4\"].upper_bound = 6\n",
    "reactions[\"R7\"].lower_bound = 1\n",
    "reactions[\"R7\"].upper_bound = 4\n",
    "\n",
    "for i in range(1,8):\n",
    "    model.add_reaction(reactions[\"R\"+str(i)])\n",
    "\n"
   ]
  },
  {
   "cell_type": "markdown",
   "metadata": {},
   "source": [
    "A few comments on the previous cell. In order to define a model in the cobra framework, one first need to instanciate the Model class with this line\n",
    "\n",
    "    model = Model('example_model')\n",
    "\n",
    "We also need to define the metabolites, this is done with\n",
    "\n",
    "    A = Metabolite('A', name='A', compartment='c'),....\n",
    "\n",
    "Finally, we define the reactions and add then to the model...\n",
    "\n",
    "    reactions[\"R1\"] = Reaction(\"R1\")\n",
    "    reactions[\"R1\"].lower_bound = 0\n",
    "    reactions[\"R1\"].upper_bound = 0\n",
    "    reactions[\"R1\"].add_metabolites({A:-2, B:-1, C: 1})\n",
    "    model.add_reaction(reactions[\"R1\"])\n",
    "\n"
   ]
  },
  {
   "cell_type": "code",
   "execution_count": 2,
   "metadata": {},
   "outputs": [],
   "source": [
    "# setting the objective\n",
    "\n",
    "model.reactions.R4.objective_coefficient=1\n",
    "model.reactions.R7.objective_coefficient=1\n",
    "\n",
    "# or alternative solution\n",
    "model.objective= model.reactions.R4.flux_expression + model.reactions.R7.flux_expression"
   ]
  },
  {
   "cell_type": "code",
   "execution_count": 3,
   "metadata": {},
   "outputs": [
    {
     "name": "stdout",
     "output_type": "stream",
     "text": [
      "Number of metabolites =  5\n",
      "Number of reactions =  7\n"
     ]
    }
   ],
   "source": [
    "# Display some informations on the model (part 1)\n",
    "print (\"Number of metabolites = \",len(model.metabolites))\n",
    "print (\"Number of reactions = \",len(model.reactions))"
   ]
  },
  {
   "cell_type": "code",
   "execution_count": 4,
   "metadata": {},
   "outputs": [
    {
     "name": "stdout",
     "output_type": "stream",
     "text": [
      "Reaction 2 is  4 A --> D lb =  0.0 ub =  1000.0\n",
      "R1 2 A + B --> C\n",
      "R2 B + C --> D + 2 E\n",
      "R3 4 A --> D\n",
      "R4  --> A\n",
      "R5  --> B\n",
      "R6 D --> \n",
      "R7 E --> \n"
     ]
    }
   ],
   "source": [
    "# Display some informations on the model (part 2)\n",
    "\n",
    "print (\"Reaction 2 is \", model.reactions[2].build_reaction_string(), \"lb = \", model.reactions[2].lower_bound, \"ub = \", model.reactions[2].upper_bound)\n",
    "\n",
    "# Question : Write a loop in order to get all the reactions\n",
    "\n",
    "# Notice than we can iterate on reactions (or metabolites or genes,...)\n",
    "\n",
    "for r in model.reactions:\n",
    "    print(r.name, r.build_reaction_string())\n",
    "\n",
    "\n"
   ]
  },
  {
   "cell_type": "code",
   "execution_count": 5,
   "metadata": {},
   "outputs": [
    {
     "name": "stdout",
     "output_type": "stream",
     "text": [
      "optimal value= 10.0\n",
      "corresponding fluxes =  R1    2.0\n",
      "R2    2.0\n",
      "R3    0.5\n",
      "R4    6.0\n",
      "R5    4.0\n",
      "R6    2.5\n",
      "R7    4.0\n",
      "Name: fluxes, dtype: float64\n"
     ]
    },
    {
     "data": {
      "text/html": [
       "<div>\n",
       "<style scoped>\n",
       "    .dataframe tbody tr th:only-of-type {\n",
       "        vertical-align: middle;\n",
       "    }\n",
       "\n",
       "    .dataframe tbody tr th {\n",
       "        vertical-align: top;\n",
       "    }\n",
       "\n",
       "    .dataframe thead th {\n",
       "        text-align: right;\n",
       "    }\n",
       "</style>\n",
       "<table border=\"1\" class=\"dataframe\">\n",
       "  <thead>\n",
       "    <tr style=\"text-align: right;\">\n",
       "      <th></th>\n",
       "      <th>fluxes</th>\n",
       "    </tr>\n",
       "  </thead>\n",
       "  <tbody>\n",
       "    <tr>\n",
       "      <th>R1</th>\n",
       "      <td>2.0</td>\n",
       "    </tr>\n",
       "    <tr>\n",
       "      <th>R2</th>\n",
       "      <td>2.0</td>\n",
       "    </tr>\n",
       "    <tr>\n",
       "      <th>R3</th>\n",
       "      <td>0.5</td>\n",
       "    </tr>\n",
       "    <tr>\n",
       "      <th>R4</th>\n",
       "      <td>6.0</td>\n",
       "    </tr>\n",
       "    <tr>\n",
       "      <th>R5</th>\n",
       "      <td>4.0</td>\n",
       "    </tr>\n",
       "    <tr>\n",
       "      <th>R6</th>\n",
       "      <td>2.5</td>\n",
       "    </tr>\n",
       "    <tr>\n",
       "      <th>R7</th>\n",
       "      <td>4.0</td>\n",
       "    </tr>\n",
       "  </tbody>\n",
       "</table>\n",
       "</div>"
      ],
      "text/plain": [
       "    fluxes\n",
       "R1     2.0\n",
       "R2     2.0\n",
       "R3     0.5\n",
       "R4     6.0\n",
       "R5     4.0\n",
       "R6     2.5\n",
       "R7     4.0"
      ]
     },
     "execution_count": 5,
     "metadata": {},
     "output_type": "execute_result"
    }
   ],
   "source": [
    "# Perform a FBA optimization\n",
    "\n",
    "# performing a FBA is done by using the optimize() function that \n",
    "# construct the appropriate LP problem and call the solver.\n",
    "\n",
    "f=model.optimize()\n",
    "print (\"optimal value=\",f.objective_value)\n",
    "print (\"corresponding fluxes = \",f.fluxes)\n",
    "\n",
    "# a nicer view with pandas library\n",
    "import pandas\n",
    "pandas.DataFrame.from_dict({\"fluxes\": f.fluxes})"
   ]
  },
  {
   "cell_type": "markdown",
   "metadata": {},
   "source": [
    "# ⚠️ Important sample code\n",
    "\n",
    "For computing a FBA, we need a properly defined model with an objective function, then we use\n",
    "\n",
    "    model.optimize()\n"
   ]
  },
  {
   "cell_type": "code",
   "execution_count": 6,
   "metadata": {},
   "outputs": [
    {
     "name": "stdout",
     "output_type": "stream",
     "text": [
      "R1 min :  0.5  , max :  2.0\n",
      "R2 min :  0.5  , max :  2.0\n",
      "R3 min :  -0.0  , max :  1.25\n",
      "R4 min :  1.0  , max :  6.0\n",
      "R5 min :  1.0  , max :  4.0\n",
      "R6 min :  0.5  , max :  2.5\n",
      "R7 min :  1.0  , max :  4.0\n"
     ]
    }
   ],
   "source": [
    "# Question: Get the minimal and maximal values of all the fluxes in the solution space\n",
    "\n",
    "# for that, we need to change the objective and perform FBAs\n",
    "\n",
    "for r in model.reactions:\n",
    "    # for the maximal value of flux v_r (r is the reaction), we set obj(v)=v_r like this\n",
    "    model.objective = r.flux_expression\n",
    "    # the we optimize\n",
    "    vr_max = model.optimize()\n",
    "    # for the minimal value of flux v_r (r is the reaction), we set obj(v)=-v_r\n",
    "    # and use the fact that min(v_r) = -max(-v_r)\n",
    "    model.objective = -r.flux_expression\n",
    "    # the we optimize\n",
    "    vr_min = model.optimize()\n",
    "    print(r.id, \"min : \", -vr_min.objective_value,\" , max : \",vr_max.objective_value)\n"
   ]
  },
  {
   "cell_type": "code",
   "execution_count": 7,
   "metadata": {
    "scrolled": true
   },
   "outputs": [
    {
     "data": {
      "text/html": [
       "<div>\n",
       "<style scoped>\n",
       "    .dataframe tbody tr th:only-of-type {\n",
       "        vertical-align: middle;\n",
       "    }\n",
       "\n",
       "    .dataframe tbody tr th {\n",
       "        vertical-align: top;\n",
       "    }\n",
       "\n",
       "    .dataframe thead th {\n",
       "        text-align: right;\n",
       "    }\n",
       "</style>\n",
       "<table border=\"1\" class=\"dataframe\">\n",
       "  <thead>\n",
       "    <tr style=\"text-align: right;\">\n",
       "      <th></th>\n",
       "      <th>minimum</th>\n",
       "      <th>maximum</th>\n",
       "    </tr>\n",
       "  </thead>\n",
       "  <tbody>\n",
       "    <tr>\n",
       "      <th>R1</th>\n",
       "      <td>1.50</td>\n",
       "      <td>2.00</td>\n",
       "    </tr>\n",
       "    <tr>\n",
       "      <th>R2</th>\n",
       "      <td>1.50</td>\n",
       "      <td>2.00</td>\n",
       "    </tr>\n",
       "    <tr>\n",
       "      <th>R3</th>\n",
       "      <td>0.25</td>\n",
       "      <td>0.75</td>\n",
       "    </tr>\n",
       "    <tr>\n",
       "      <th>R4</th>\n",
       "      <td>5.00</td>\n",
       "      <td>6.00</td>\n",
       "    </tr>\n",
       "    <tr>\n",
       "      <th>R5</th>\n",
       "      <td>3.00</td>\n",
       "      <td>4.00</td>\n",
       "    </tr>\n",
       "    <tr>\n",
       "      <th>R6</th>\n",
       "      <td>2.25</td>\n",
       "      <td>2.50</td>\n",
       "    </tr>\n",
       "    <tr>\n",
       "      <th>R7</th>\n",
       "      <td>3.00</td>\n",
       "      <td>4.00</td>\n",
       "    </tr>\n",
       "  </tbody>\n",
       "</table>\n",
       "</div>"
      ],
      "text/plain": [
       "    minimum  maximum\n",
       "R1     1.50     2.00\n",
       "R2     1.50     2.00\n",
       "R3     0.25     0.75\n",
       "R4     5.00     6.00\n",
       "R5     3.00     4.00\n",
       "R6     2.25     2.50\n",
       "R7     3.00     4.00"
      ]
     },
     "execution_count": 7,
     "metadata": {},
     "output_type": "execute_result"
    }
   ],
   "source": [
    "model.objective = model.reactions.R4.flux_expression + model.reactions.R7.flux_expression\n",
    "\n",
    "# compare with \n",
    "import cobra\n",
    "cobra.flux_analysis.flux_variability_analysis(model, fraction_of_optimum=0.9)"
   ]
  },
  {
   "cell_type": "markdown",
   "metadata": {},
   "source": [
    "# ⚠️ Important sample code\n",
    "\n",
    "For computing a FVA, we need a properly defined model with an objective function, then we use\n",
    "\n",
    "    cobra.flux_analysis.flux_variability_analysis(model, fraction_of_optimum=0.9)\n",
    "    \n",
    "with the fraction_of_optimum parameter to set the flexibility parameter."
   ]
  },
  {
   "cell_type": "markdown",
   "metadata": {},
   "source": [
    "# Study of bigger models"
   ]
  },
  {
   "cell_type": "markdown",
   "metadata": {},
   "source": [
    "*Exercise 2*\n",
    "\n",
    "Get the ecoli_core model of Echerischia coli metabolism in the BiGG model repository here [http://bigg.ucsd.edu](http://bigg.ucsd.edu).\n",
    "\n",
    "1. Execute a for loop on all the reactions and print their id and objective coefficient. Verify that the model possesses an objective and if not, use the model.reactions.get_by_id to set the objective coefficient of the biomass to 1.\n",
    "2. Perform a FBA study. Count the number of reactions having a flux equal to zero.\n",
    "3. Perform a FVA study. Report the reactions having a fixed flux. Classify the reactions into 3 classes: blocked reactions having a fixed flux equal to 0; essential reactions whose flux is either strictly positive or strictly negative; and alternative reactions whose flux can be positive or negative. \n",
    "4. Perform a FVA study at 90%. Same questions as previously.\n",
    "5. Study the effect of glucose disposability (i.e., store in an array the values of the optimal biomass, obtained by a FBA study, when the lower_bound of the ‘EX_glc_D_e’ reaction range from -1000 to 0 and plot the resulting values)\n",
    "6. A reaction is said to be required for biomass iff setting the reaction flux to 0 imply a decrease of the biomass growth by more than 90%. Report all the required reactions.\n",
    "\n"
   ]
  },
  {
   "cell_type": "code",
   "execution_count": 12,
   "metadata": {},
   "outputs": [],
   "source": [
    "import pandas\n",
    "import cobra.test\n",
    "\n",
    "# You can use this model from the tutorial\n",
    "#model = cobra.test.create_test_model(\"ecoli\")\n",
    "\n",
    "# or this one that must be in the home folder\n",
    "model = cobra.io.read_sbml_model(\"e_coli_core.xml\")"
   ]
  },
  {
   "cell_type": "code",
   "execution_count": 9,
   "metadata": {
    "collapsed": true
   },
   "outputs": [],
   "source": [
    "# Question: list all the reactions and print their contributions to the objective"
   ]
  },
  {
   "cell_type": "code",
   "execution_count": null,
   "metadata": {
    "collapsed": true
   },
   "outputs": [],
   "source": [
    "# Question: how many reactions have a zero 0 for an optimal solution"
   ]
  },
  {
   "cell_type": "markdown",
   "metadata": {
    "collapsed": true
   },
   "source": [
    "# Genetic manipulations… and metabolic engineering"
   ]
  },
  {
   "cell_type": "markdown",
   "metadata": {
    "collapsed": true
   },
   "source": [
    "*Exercise 3* \n",
    "\n",
    "We will now work with the ecoli test model from cobrapy that contains some genetic reaction rules. `model = cobra.test.create_test_model(‘ecoli’)`\n",
    "1. Print the reaction rule of all the reactions.\n",
    "2. Perform a single deletion analysis (cobra.flux_analysis.single_deletion) and report all the gene such that, when knocked out, the biomass production is less than 90% its optimal value."
   ]
  },
  {
   "cell_type": "code",
   "execution_count": null,
   "metadata": {},
   "outputs": [],
   "source": []
  },
  {
   "cell_type": "markdown",
   "metadata": {
    "collapsed": true
   },
   "source": [
    "*Exercise 4*\n",
    "\n",
    "This question can be tested by using any available e. coli model…\n",
    "What is the optimal O2 condition if we want to produce alcohol with e. coli ? More precisely, we want to keep e. coli alive (so biomass>90% from its optimal), optimize the ethanol production and change the O2 rate exchange to see when the ethanol production is maximal…"
   ]
  },
  {
   "cell_type": "code",
   "execution_count": null,
   "metadata": {},
   "outputs": [],
   "source": []
  },
  {
   "cell_type": "markdown",
   "metadata": {
    "collapsed": true
   },
   "source": [
    "# Metabolism and cancer…\n",
    "\n",
    "There exists two main models repositories containing metabolic networks relative to human health : Virtual Metabolic Human, VMH ([https://vmh.uni.lu/](https://vmh.uni.lu/)) and Human Metabolic Atlas, HMA ([http://www.metabolicatlas.org/](http://www.metabolicatlas.org/)). Take a short tour on these repositories. "
   ]
  },
  {
   "cell_type": "markdown",
   "metadata": {
    "collapsed": true
   },
   "source": [
    "*Exercise 5*\n",
    "\n",
    "Consider first the HMA. Take 3 models of distinct cancer and compare the models by constructing Venn diagrams comparing the common reactions, the common genes,…\n",
    "\n",
    "Notice that you will find three models from HMA in the moodle web site formatted in JSON exchange format.\n",
    "The models can be loaded in python by using the cobra.io.load_json_model function.\n",
    "\n",
    "Venn diagrams can be displayed by using the matplotlib-venn library (see [https://pypi.org/project/matplotlib-venn/](https://pypi.org/project/matplotlib-venn/) for details)."
   ]
  },
  {
   "cell_type": "code",
   "execution_count": null,
   "metadata": {
    "collapsed": true
   },
   "outputs": [],
   "source": []
  },
  {
   "cell_type": "markdown",
   "metadata": {
    "collapsed": true
   },
   "source": [
    "*Antimetabolites* are small molecules that mimics the chemical affinities of a given metabolite except, such taking its place in the chemical reactions, excepts that it blocks the functionality of the metabolite (i.e., the chemical reaction has no effects). They are commonly used as efficient cancer treatment strategies. It is thus possible, in a in silico study to block all reactions having a given metabolite as substrate and to report the metabolite having an effect on the cell growth."
   ]
  },
  {
   "cell_type": "markdown",
   "metadata": {
    "collapsed": true
   },
   "source": [
    "*Exercise 6*\n",
    "\n",
    "Consider the e coli model of BiGG and find antimetabolites having a putative effect. "
   ]
  },
  {
   "cell_type": "code",
   "execution_count": null,
   "metadata": {},
   "outputs": [],
   "source": []
  },
  {
   "cell_type": "markdown",
   "metadata": {
    "collapsed": true
   },
   "source": [
    "*Exercise 7*\n",
    "\n",
    "The repository VMH contains the description of different diet conditions. Take some microbiote models from the download section and test the effect of different diet conditions on the biomass production and on the cholesterol export."
   ]
  },
  {
   "cell_type": "code",
   "execution_count": null,
   "metadata": {},
   "outputs": [],
   "source": []
  }
 ],
 "metadata": {
  "kernelspec": {
   "display_name": "Python 3",
   "language": "python",
   "name": "python3"
  },
  "language_info": {
   "codemirror_mode": {
    "name": "ipython",
    "version": 3
   },
   "file_extension": ".py",
   "mimetype": "text/x-python",
   "name": "python",
   "nbconvert_exporter": "python",
   "pygments_lexer": "ipython3",
   "version": "3.7.3"
  }
 },
 "nbformat": 4,
 "nbformat_minor": 2
}
